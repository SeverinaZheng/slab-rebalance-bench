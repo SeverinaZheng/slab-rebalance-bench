{
 "cells": [
  {
   "cell_type": "code",
   "execution_count": 1,
   "id": "9b75b0a8",
   "metadata": {},
   "outputs": [],
   "source": [
    "import pandas as pd"
   ]
  },
  {
   "cell_type": "code",
   "execution_count": 3,
   "id": "44bf7ece",
   "metadata": {},
   "outputs": [
    {
     "name": "stdout",
     "output_type": "stream",
     "text": [
      "Index(['number_of_requests', 'min_req_size', 'max_req_size', 'qps',\n",
      "       'number_of_objects', 'number_of_req_GiB', 'number_of_obj_GiB',\n",
      "       'compulsory_miss_ratio_req', 'compulsory_miss_ratio_byte', 'time_span',\n",
      "       'frequency_mean', 'trace_name', 'download_path', 'file_name',\n",
      "       'slab_size', 'category', 'wss', 'min_obj_size', 'max_obj_size',\n",
      "       'num_slab_classes'],\n",
      "      dtype='object')\n"
     ]
    }
   ],
   "source": [
    "df = pd.read_csv('../trace_info.csv')\n",
    "print(df.columns)"
   ]
  },
  {
   "cell_type": "code",
   "execution_count": 7,
   "id": "9ed21377",
   "metadata": {},
   "outputs": [
    {
     "name": "stdout",
     "output_type": "stream",
     "text": [
      "Category: twitter-kv, Total Requests: 253440.226283M Total Objects: 26122.662501M, Trace Count: 54\n",
      "Category: cloudphysics-block, Total Requests: 2114.663845M Total Objects: 491.506267M, Trace Count: 106\n",
      "Category: meta-kv, Total Requests: 13534.366704M Total Objects: 390.242854M, Trace Count: 6\n",
      "Category: wiki-cdn, Total Requests: 5659.563966M Total Objects: 104.643354M, Trace Count: 3\n",
      "Category: tencent-cdn, Total Requests: 5648.758238M Total Objects: 1037.869277M, Trace Count: 2\n",
      "Category: meta-cdn, Total Requests: 203.30773M Total Objects: 74.667218M, Trace Count: 3\n"
     ]
    }
   ],
   "source": [
    "for category in df['category'].unique():\n",
    "    category_df = df[df['category'] == category]\n",
    "    reqs = category_df['number_of_requests'].sum()\n",
    "    objs = category_df['number_of_objects'].sum()\n",
    "    trace_cnt = category_df.shape[0]\n",
    "    print(f\"Category: {category}, Total Requests: {reqs / 1000_000}M\", \n",
    "          f\"Total Objects: {objs / 1000_000}M, Trace Count: {trace_cnt}\")"
   ]
  },
  {
   "cell_type": "code",
   "execution_count": null,
   "id": "a6a64b21",
   "metadata": {},
   "outputs": [],
   "source": []
  }
 ],
 "metadata": {
  "kernelspec": {
   "display_name": "Python 3",
   "language": "python",
   "name": "python3"
  },
  "language_info": {
   "codemirror_mode": {
    "name": "ipython",
    "version": 3
   },
   "file_extension": ".py",
   "mimetype": "text/x-python",
   "name": "python",
   "nbconvert_exporter": "python",
   "pygments_lexer": "ipython3",
   "version": "3.10.12"
  }
 },
 "nbformat": 4,
 "nbformat_minor": 5
}
